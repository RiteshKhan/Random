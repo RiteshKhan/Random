{
  "nbformat": 4,
  "nbformat_minor": 0,
  "metadata": {
    "colab": {
      "name": "11/02/2022.ipynb",
      "provenance": [],
      "authorship_tag": "ABX9TyMufHT71yhFNn6JqYZKj5Au"
    },
    "kernelspec": {
      "name": "python3",
      "display_name": "Python 3"
    },
    "language_info": {
      "name": "python"
    }
  },
  "cells": [
    {
      "cell_type": "code",
      "execution_count": null,
      "metadata": {
        "id": "1_2bcInrIaj2"
      },
      "outputs": [],
      "source": [
        "\"\"\"\n",
        "Q1\n",
        "\n",
        "Write a function my_checker_board(n), where the output m is an n×n\n",
        "\n",
        "array with the following form:\n",
        "m=[1 0 1 0 1\n",
        "   0 1 0 1 0\n",
        "   1 0 1 0 1\n",
        "   0 1 0 1 0\n",
        "   1 0 1 0 1]\n",
        "\n",
        "Note that the upper-left element should always be 1. Assume that n is a strictly positive integer.\n",
        "\"\"\"\n",
        "\n",
        "import numpy as np\n",
        "def my_checker_board(n):\n",
        "  l = []\n",
        "  m = n*n\n",
        "  for i in range(0,n**2):\n",
        "    if(i%2==0):\n",
        "      l.append(1)\n",
        "    else:\n",
        "      l.append(0)\n",
        "  A = np.array(l)\n",
        "  return(A.reshape(n,n))\n"
      ]
    },
    {
      "cell_type": "code",
      "source": [
        "print(my_checker_board(7))"
      ],
      "metadata": {
        "colab": {
          "base_uri": "https://localhost:8080/"
        },
        "id": "trbP0DFwKkwH",
        "outputId": "a937611b-f84f-4696-970e-4ce81fe057db"
      },
      "execution_count": null,
      "outputs": [
        {
          "output_type": "stream",
          "name": "stdout",
          "text": [
            "[[1 0 1 0 1 0 1]\n",
            " [0 1 0 1 0 1 0]\n",
            " [1 0 1 0 1 0 1]\n",
            " [0 1 0 1 0 1 0]\n",
            " [1 0 1 0 1 0 1]\n",
            " [0 1 0 1 0 1 0]\n",
            " [1 0 1 0 1 0 1]]\n"
          ]
        }
      ]
    },
    {
      "cell_type": "code",
      "source": [
        "\"\"\"\n",
        "Q2\n",
        "Write a function my_cylinder(r,h), where r and h are the radius and height of a cylinder, respectively, \n",
        "and the output is a list [s, v] where s and v are the surface area and volume of the same cylinder, respectively. \n",
        "\"\"\"\n",
        "def my_cylinder(r,h):\n",
        "  s = 2*np.pi*r**2 + 2*np.pi*r*h\n",
        "  v = np.pi*r**2*h\n",
        "  return [s,v]"
      ],
      "metadata": {
        "id": "-wdm4RwaMIHr"
      },
      "execution_count": null,
      "outputs": []
    },
    {
      "cell_type": "code",
      "source": [
        "s,v = my_cylinder(1,5)\n",
        "print(f\"The surface area is {s} and volume is {v}\")"
      ],
      "metadata": {
        "colab": {
          "base_uri": "https://localhost:8080/"
        },
        "id": "CKNbKA43NiIt",
        "outputId": "b8f1e1a1-6172-436c-de4b-6b876a0f02cf"
      },
      "execution_count": null,
      "outputs": [
        {
          "output_type": "stream",
          "name": "stdout",
          "text": [
            "The surface area is 37.69911184307752 and volume is 15.707963267948966\n"
          ]
        }
      ]
    },
    {
      "cell_type": "code",
      "source": [
        "\"\"\"\n",
        "Q2\n",
        "Write a function my_split_matrix(m), where m is an array, \n",
        "the output is a list [m1, m2] where m1 is the left half of m, and m2 is the right half of m. \n",
        "In the case where there is an odd number of columns, the middle column should go to m1. \n",
        "Assume that m has at least two columns.\n",
        "\"\"\"\n",
        "\n",
        "def my_split_matrix(m):\n",
        "  p, q = m.shape\n",
        "  if(q%2==0):\n",
        "    m1 = m[:,0:q/2]\n",
        "    m2 = m[:,q/2:]\n",
        "  else:\n",
        "    m1 = m[:,0:q//2 +1]\n",
        "    m2 = m[:,q//2 +1:]\n",
        "  return [m1,m2]\n"
      ],
      "metadata": {
        "id": "xIpCspPcNlNh"
      },
      "execution_count": null,
      "outputs": []
    },
    {
      "cell_type": "code",
      "source": [
        "m = np.ones((7,7))\n",
        "m1, m2 = my_split_matrix(m)\n",
        "print(f\"The 1st block m1 is {m1} and 2nd block m2 is {m2}\")"
      ],
      "metadata": {
        "colab": {
          "base_uri": "https://localhost:8080/"
        },
        "id": "omrlAqI1P6aG",
        "outputId": "3e5e4d73-f1e4-42b2-a075-833c682a91e9"
      },
      "execution_count": null,
      "outputs": [
        {
          "output_type": "stream",
          "name": "stdout",
          "text": [
            "The 1st block m1 is [[1. 1. 1. 1.]\n",
            " [1. 1. 1. 1.]\n",
            " [1. 1. 1. 1.]\n",
            " [1. 1. 1. 1.]\n",
            " [1. 1. 1. 1.]\n",
            " [1. 1. 1. 1.]\n",
            " [1. 1. 1. 1.]] and 2nd block m2 is [[1. 1. 1.]\n",
            " [1. 1. 1.]\n",
            " [1. 1. 1.]\n",
            " [1. 1. 1.]\n",
            " [1. 1. 1.]\n",
            " [1. 1. 1.]\n",
            " [1. 1. 1.]]\n"
          ]
        }
      ]
    },
    {
      "cell_type": "code",
      "source": [
        "A = np.array([5,4,3,7])\n",
        "A[2:]"
      ],
      "metadata": {
        "colab": {
          "base_uri": "https://localhost:8080/"
        },
        "id": "ZAIM27WESuvS",
        "outputId": "14a647c5-17df-4f3a-bc92-fdf280947471"
      },
      "execution_count": null,
      "outputs": [
        {
          "output_type": "execute_result",
          "data": {
            "text/plain": [
              "array([3, 7])"
            ]
          },
          "metadata": {},
          "execution_count": 7
        }
      ]
    },
    {
      "cell_type": "code",
      "source": [
        "dic = {\"A\": 1, \"B\":2}\n",
        "for i,j in enumerate(dic):\n",
        "  print(i,j)"
      ],
      "metadata": {
        "colab": {
          "base_uri": "https://localhost:8080/"
        },
        "id": "e-lMWHs0Tl9F",
        "outputId": "96ac8b17-73d3-4b56-f5a3-789c1c515a12"
      },
      "execution_count": null,
      "outputs": [
        {
          "output_type": "stream",
          "name": "stdout",
          "text": [
            "0 A\n",
            "1 B\n"
          ]
        }
      ]
    },
    {
      "cell_type": "code",
      "source": [
        "l1 = [3,4,5]\n",
        "l2 = [5,6,7]\n",
        "for i,j in zip(l1,l2):\n",
        "  print(i,j)"
      ],
      "metadata": {
        "colab": {
          "base_uri": "https://localhost:8080/"
        },
        "id": "DBfE3IbOVc6I",
        "outputId": "5a21345c-7122-4e31-f69d-723de188c9e5"
      },
      "execution_count": null,
      "outputs": [
        {
          "output_type": "stream",
          "name": "stdout",
          "text": [
            "3 5\n",
            "4 6\n",
            "5 7\n"
          ]
        }
      ]
    },
    {
      "cell_type": "code",
      "source": [
        "a = [2,5,6]\n",
        "y = [i**2 for i in a]\n",
        "print(y)"
      ],
      "metadata": {
        "colab": {
          "base_uri": "https://localhost:8080/"
        },
        "id": "65DngTuvYxoF",
        "outputId": "9eb5b67c-c1b6-4d7a-de21-144e7e0e3a35"
      },
      "execution_count": null,
      "outputs": [
        {
          "output_type": "stream",
          "name": "stdout",
          "text": [
            "[4, 25, 36]\n"
          ]
        }
      ]
    },
    {
      "cell_type": "code",
      "source": [
        "b = np.array(a)\n",
        "print(b*b)"
      ],
      "metadata": {
        "colab": {
          "base_uri": "https://localhost:8080/"
        },
        "id": "1ZqcRTs2dlqo",
        "outputId": "df21ea6f-a631-41a6-d07d-f5920a2fe595"
      },
      "execution_count": null,
      "outputs": [
        {
          "output_type": "stream",
          "name": "stdout",
          "text": [
            "[ 4 25 36]\n"
          ]
        }
      ]
    },
    {
      "cell_type": "markdown",
      "source": [
        "The interest, i, on a principle, $P_0$, is a payment for allowing the bank to use your money. Compound interest is accumulated according to the formula $P_n=(1+i)P_{n−1}$, where n is the compounding period, usually in months or years. Write a function my_saving_plan$(P_0, i, goal)$ where the output is the number of years it will take $P_0$ to become goal at $i\\%$ interest compounded annually."
      ],
      "metadata": {
        "id": "R1ApURCPfZPy"
      }
    },
    {
      "cell_type": "code",
      "source": [
        "\"\"\"\n",
        "Q4\n",
        "The interest, i, on a principle, P0, is a payment for allowing the bank to use your money. \n",
        "Compound interest is accumulated according to the formula Pn=(1+i)Pn−1, where n is the compounding period, \n",
        "usually in months or years. Write a function my_saving_plan(P0, i, goal) \n",
        "where the output is the number of years it will take P0 to become goal at i% interest compounded annually.\n",
        "\"\"\"\n",
        "def my_saving_plan(p0,i,goal):\n",
        "  p = p0\n",
        "  c=1\n",
        "  while(c>0):\n",
        "    p = (1+i)*p\n",
        "    if(p>=goal):\n",
        "      break\n",
        "    c +=1\n",
        "  return c"
      ],
      "metadata": {
        "id": "DrW_75hVftVW"
      },
      "execution_count": null,
      "outputs": []
    },
    {
      "cell_type": "code",
      "source": [
        "# Output: 15\n",
        "my_saving_plan(1000, 0.05, 2000)"
      ],
      "metadata": {
        "colab": {
          "base_uri": "https://localhost:8080/"
        },
        "id": "LJtGZUgPhWXl",
        "outputId": "bbe6af78-5764-4153-bb32-d25f95d8d294"
      },
      "execution_count": null,
      "outputs": [
        {
          "output_type": "execute_result",
          "data": {
            "text/plain": [
              "15"
            ]
          },
          "metadata": {},
          "execution_count": 13
        }
      ]
    },
    {
      "cell_type": "code",
      "source": [
        "# Prime Fibonacci f0 = 0, f1 = 1 with recursion\n",
        "def isPrime(n):\n",
        "  if(n<=1): return False\n",
        "  else:\n",
        "    for i in range(2,n):\n",
        "      if(n%i==0): return False\n",
        "  return True\n",
        "\n",
        "def Fibo(n):\n",
        "  if(n<=2):\n",
        "    return n-1\n",
        "  else:\n",
        "    return Fibo(n-1)+Fibo(n-2)\n",
        "\n",
        "def Fibo_Prime(x):\n",
        "  for i in range(x+1):\n",
        "    if(isPrime(Fibo(i))):\n",
        "      print(Fibo(i), end = \" \")\n",
        "\n",
        "  "
      ],
      "metadata": {
        "id": "LpPI2Smvhb1s"
      },
      "execution_count": null,
      "outputs": []
    },
    {
      "cell_type": "code",
      "source": [
        "Fibo_Prime(10)"
      ],
      "metadata": {
        "colab": {
          "base_uri": "https://localhost:8080/"
        },
        "id": "WUKlMZM72I1J",
        "outputId": "cd127225-679a-40df-dea9-8bc253298dae"
      },
      "execution_count": null,
      "outputs": [
        {
          "output_type": "stream",
          "name": "stdout",
          "text": [
            "2 3 5 13 "
          ]
        }
      ]
    },
    {
      "cell_type": "code",
      "source": [
        "# Without recursion\n",
        "def Fibo_Prime2(n):\n",
        "  f0 = 0\n",
        "  f1 = 1\n",
        "  for i in range(n-2):\n",
        "    f2 = f0 + f1\n",
        "    f0 = f1\n",
        "    f1 = f2\n",
        "    if(isPrime(f1)):\n",
        "      print(f1, end = \" \")"
      ],
      "metadata": {
        "id": "FJ_4pKxs2Kra"
      },
      "execution_count": null,
      "outputs": []
    },
    {
      "cell_type": "code",
      "source": [
        "Fibo_Prime2(8)"
      ],
      "metadata": {
        "colab": {
          "base_uri": "https://localhost:8080/"
        },
        "id": "3bdDOtLo7PkO",
        "outputId": "6931f8b1-09bc-43f9-89ef-9602e6862f32"
      },
      "execution_count": null,
      "outputs": [
        {
          "output_type": "stream",
          "name": "stdout",
          "text": [
            "2 3 5 13 "
          ]
        }
      ]
    },
    {
      "cell_type": "code",
      "source": [
        "\"\"\"\n",
        "write a function my_trig_odd_even(M), where the output Q[i,j]=sin(π/M[i,j]) if M[i,j] is odd, \n",
        "and Q[i,j]=cos(π/M[i,j]) if M[i,j] is even. \n",
        "Assume that M is a two-dimensional array of strictly positive integers.\n",
        "\"\"\"\n",
        "def my_trig_odd_even(M):\n",
        "  m=len(M)\n",
        "  n=len(M[0])\n",
        "  Q=[[0]*n]*m\n",
        "  for i in range(m):\n",
        "    for j in range(n):\n",
        "      if(M[i][j]%2==0):\n",
        "        Q[i][j] = np.sin(np.pi/M[i][j])\n",
        "      else:\n",
        "        Q[i][j] = np.cos(np.pi/M[i][j])\n",
        "  return Q"
      ],
      "metadata": {
        "id": "qkizdAEt7URT"
      },
      "execution_count": null,
      "outputs": []
    },
    {
      "cell_type": "code",
      "source": [
        "M = [[3, 4,1], [6, 7,2]]\n",
        "my_trig_odd_even(M)"
      ],
      "metadata": {
        "colab": {
          "base_uri": "https://localhost:8080/"
        },
        "id": "Spmy4eQSALLd",
        "outputId": "daefba60-3c86-4292-c9df-0dd2bd1f11fd"
      },
      "execution_count": null,
      "outputs": [
        {
          "output_type": "execute_result",
          "data": {
            "text/plain": [
              "[[0.49999999999999994, 0.9009688679024191, 1.0],\n",
              " [0.49999999999999994, 0.9009688679024191, 1.0]]"
            ]
          },
          "metadata": {},
          "execution_count": 19
        }
      ]
    },
    {
      "cell_type": "code",
      "source": [
        "\"\"\"\n",
        "Compare forward difference, backward diff, central diff and exact\n",
        "\"\"\"\n",
        "# Forward diff\n",
        "def forward_diff(f,x,h):\n",
        "  df_forward = (f(x+h)-f(x))/h\n",
        "  return df_forward\n",
        "\n",
        "# Backward diff\n",
        "def backward_diff(f,x,h):\n",
        "  df_backward = (f(x)-f(x-h))/h\n",
        "  return df_backward\n",
        "\n",
        "# Central diff\n",
        "def central_diff(f,x,h):\n",
        "  df_central = (f(x+h)-f(x-h))/(2*h)\n",
        "  return df_central\n",
        "\n",
        "# step length h = 0.5\n",
        "h  = 0.5\n",
        "f  = lambda x: x**3 - 2*x\n",
        "df = lambda x: 3*x**2 -2\n",
        "xvec  = np.arange(-1,1,h)\n",
        "frwd  = forward_diff(f,xvec,h)\n",
        "bkwd  = backward_diff(f,xvec,h)\n",
        "cend  = central_diff(f,xvec,h)\n",
        "exact = df(xvec)\n",
        "import matplotlib.pyplot as plt\n",
        "plt.plot(xvec,frwd, color = 'r', label = \"forward\")\n",
        "plt.plot(xvec,bkwd, color = 'g', label = \"backward\")\n",
        "plt.plot(xvec,cend, color = 'k', label = \"central\")\n",
        "plt.plot(xvec,exact,'-o', color = 'c', label = \"exact\")\n",
        "plt.xlabel(\"x value \")\n",
        "plt.ylabel(\"diff(x) value \")\n",
        "plt.legend()\n",
        "plt.grid()\n",
        "plt.title(\"Comparison between different difference formulas for h = 0.5\")\n",
        "plt.show()"
      ],
      "metadata": {
        "id": "7-Dvi2ObAOjz",
        "colab": {
          "base_uri": "https://localhost:8080/",
          "height": 295
        },
        "outputId": "c3edc16e-5104-46c3-e07f-e6172cfe1390"
      },
      "execution_count": null,
      "outputs": [
        {
          "output_type": "display_data",
          "data": {
            "image/png": "[encoded data removed]",
            "text/plain": [
              "<Figure size 432x288 with 1 Axes>"
            ]
          },
          "metadata": {
            "needs_background": "light"
          }
        }
      ]
    },
    {
      "cell_type": "code",
      "source": [
        "# step length h = 0.3\n",
        "h  = 0.3\n",
        "f  = lambda x: x**3 - 2*x\n",
        "df = lambda x: 3*x**2 -2\n",
        "xvec  = np.arange(-1,1,h)\n",
        "frwd  = forward_diff(f,xvec,h)\n",
        "bkwd  = backward_diff(f,xvec,h)\n",
        "cend  = central_diff(f,xvec,h)\n",
        "exact = df(xvec)\n",
        "plt.plot(xvec,frwd, color = 'r', label = \"forward\")\n",
        "plt.plot(xvec,bkwd, color = 'g', label = \"backward\")\n",
        "plt.plot(xvec,cend, color = 'k', label = \"central\")\n",
        "plt.plot(xvec,exact,'-o', color = 'c', label = \"exact\")\n",
        "plt.xlabel(\"x value \")\n",
        "plt.ylabel(\"diff(x) value \")\n",
        "plt.legend()\n",
        "plt.grid()\n",
        "plt.title(\"Comparison between different difference formulas for h = 0.3\")\n",
        "plt.show()"
      ],
      "metadata": {
        "colab": {
          "base_uri": "https://localhost:8080/",
          "height": 295
        },
        "id": "LPo80nUpFlaj",
        "outputId": "92038f22-34c9-4abc-d12e-6b7f8f03c16a"
      },
      "execution_count": null,
      "outputs": [
        {
          "output_type": "display_data",
          "data": {
            "image/png": "[encoded data removed]",
            "text/plain": [
              "<Figure size 432x288 with 1 Axes>"
            ]
          },
          "metadata": {
            "needs_background": "light"
          }
        }
      ]
    },
    {
      "cell_type": "code",
      "source": [
        "# step length h = 0.2\n",
        "h  = 0.2\n",
        "f  = lambda x: x**3 - 2*x\n",
        "df = lambda x: 3*x**2 -2\n",
        "xvec  = np.arange(-1,1,h)\n",
        "frwd  = forward_diff(f,xvec,h)\n",
        "bkwd  = backward_diff(f,xvec,h)\n",
        "cend  = central_diff(f,xvec,h)\n",
        "exact = df(xvec)\n",
        "plt.plot(xvec,frwd, color = 'r', label = \"forward\")\n",
        "plt.plot(xvec,bkwd, color = 'g', label = \"backward\")\n",
        "plt.plot(xvec,cend, color = 'k', label = \"central\")\n",
        "plt.plot(xvec,exact,'-o', color = 'c', label = \"exact\")\n",
        "plt.xlabel(\"x value \")\n",
        "plt.ylabel(\"diff(x) value \")\n",
        "plt.legend()\n",
        "plt.grid()\n",
        "plt.title(\"Comparison between different difference formulas for h = 0.2\")\n",
        "plt.show()"
      ],
      "metadata": {
        "colab": {
          "base_uri": "https://localhost:8080/",
          "height": 295
        },
        "id": "YbDTdALRLLdM",
        "outputId": "63523170-7999-4f9d-c511-4a7e39652106"
      },
      "execution_count": null,
      "outputs": [
        {
          "output_type": "display_data",
          "data": {
            "image/png": "[encoded data removed]",
            "text/plain": [
              "<Figure size 432x288 with 1 Axes>"
            ]
          },
          "metadata": {
            "needs_background": "light"
          }
        }
      ]
    },
    {
      "cell_type": "code",
      "source": [
        "# Cheb polynomial of 1st kind\n",
        "def chebyshev_poly1(n,x):\n",
        "  if(n==1): return 1\n",
        "  elif(n==2): return x\n",
        "  else: return 2*x*chebyshev_poly1(n-1,x)-chebyshev_poly1(n-2,x)"
      ],
      "metadata": {
        "id": "tU5nOkZXUigg"
      },
      "execution_count": null,
      "outputs": []
    },
    {
      "cell_type": "code",
      "source": [
        "x = np.array([1,2,3,4,5])\n",
        "print(chebyshev_poly1(3,x))"
      ],
      "metadata": {
        "colab": {
          "base_uri": "https://localhost:8080/"
        },
        "id": "GyJzHh-vWmcP",
        "outputId": "d38d7442-c90c-4fbd-e1c3-e6332e4878d7"
      },
      "execution_count": null,
      "outputs": [
        {
          "output_type": "stream",
          "name": "stdout",
          "text": [
            "[ 1  7 17 31 49]\n"
          ]
        }
      ]
    },
    {
      "cell_type": "code",
      "source": [
        "# Newton's methodfor solving f(x) = 0\n",
        "def my_newton(f,df,x0,tol):\n",
        "  max_iter = 30\n",
        "  l1 = []\n",
        "  l2 = []\n",
        "  xold = x0\n",
        "  for i in range(max_iter+1):\n",
        "    xnew = xold - f(xold)/df(xold)\n",
        "    r = np.fabs(xnew-xold)\n",
        "    l1.append(xnew)\n",
        "    l2.append(r)\n",
        "    if(r<tol): break\n",
        "    xold = xnew\n",
        "  sol = xnew\n",
        "  iter = i\n",
        "  return [l1,l2,sol,iter]\n",
        "\n"
      ],
      "metadata": {
        "id": "RaN4CD69WtG9"
      },
      "execution_count": null,
      "outputs": []
    },
    {
      "cell_type": "code",
      "source": [
        "f = lambda x: x**2 - 2\n",
        "df = lambda x: 2*x\n",
        "x0 = -2\n",
        "tol = 1e-11\n",
        "[l1,l2,sol,iter] = my_newton(f,df,x0,tol)\n",
        "plt.plot(l1,l2,'-o',)\n",
        "plt.yscale('log')\n",
        "# xvec = np.arange(-2,2,0.1)\n",
        "# plt.plot(xvec,f(xvec))\n",
        "plt.grid()\n",
        "plt.title(\"Tol vs approximation \")\n",
        "plt.show()\n"
      ],
      "metadata": {
        "colab": {
          "base_uri": "https://localhost:8080/",
          "height": 281
        },
        "id": "ow7bucYqe463",
        "outputId": "370e95a9-e12d-4523-c501-0afbe981418e"
      },
      "execution_count": null,
      "outputs": [
        {
          "output_type": "display_data",
          "data": {
            "image/png": "[encoded data removed]",
            "text/plain": [
              "<Figure size 432x288 with 1 Axes>"
            ]
          },
          "metadata": {
            "needs_background": "light"
          }
        }
      ]
    },
    {
      "cell_type": "code",
      "source": [
        ""
      ],
      "metadata": {
        "id": "FYzfJThAkst7"
      },
      "execution_count": null,
      "outputs": []
    }
  ]
}