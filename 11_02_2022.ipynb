{
  "nbformat": 4,
  "nbformat_minor": 0,
  "metadata": {
    "colab": {
      "name": "11/02/2022.ipynb",
      "provenance": [],
      "authorship_tag": "ABX9TyN8v2HqCcmga4xHJ/cBtadk"
    },
    "kernelspec": {
      "name": "python3",
      "display_name": "Python 3"
    },
    "language_info": {
      "name": "python"
    }
  },
  "cells": [
    {
      "cell_type": "code",
      "execution_count": null,
      "metadata": {
        "id": "1_2bcInrIaj2"
      },
      "outputs": [],
      "source": [
        "\"\"\"\n",
        "Q1\n",
        "\n",
        "Write a function my_checker_board(n), where the output m is an n×n\n",
        "\n",
        "array with the following form:\n",
        "m=[1 0 1 0 1\n",
        "   0 1 0 1 0\n",
        "   1 0 1 0 1\n",
        "   0 1 0 1 0\n",
        "   1 0 1 0 1]\n",
        "\n",
        "Note that the upper-left element should always be 1. Assume that n is a strictly positive integer.\n",
        "\"\"\"\n",
        "\n",
        "import numpy as np\n",
        "def my_checker_board(n):\n",
        "  l = []\n",
        "  m = n*n\n",
        "  for i in range(0,n**2):\n",
        "    if(i%2==0):\n",
        "      l.append(1)\n",
        "    else:\n",
        "      l.append(0)\n",
        "  A = np.array(l)\n",
        "  return(A.reshape(n,n))\n"
      ]
    },
    {
      "cell_type": "code",
      "source": [
        "print(my_checker_board(7))"
      ],
      "metadata": {
        "colab": {
          "base_uri": "https://localhost:8080/"
        },
        "id": "trbP0DFwKkwH",
        "outputId": "41565cc8-f29a-48cb-db14-d5b3e2a09e59"
      },
      "execution_count": null,
      "outputs": [
        {
          "output_type": "stream",
          "name": "stdout",
          "text": [
            "[[1 0 1 0 1 0 1]\n",
            " [0 1 0 1 0 1 0]\n",
            " [1 0 1 0 1 0 1]\n",
            " [0 1 0 1 0 1 0]\n",
            " [1 0 1 0 1 0 1]\n",
            " [0 1 0 1 0 1 0]\n",
            " [1 0 1 0 1 0 1]]\n"
          ]
        }
      ]
    },
    {
      "cell_type": "code",
      "source": [
        "\"\"\"\n",
        "Q2\n",
        "Write a function my_cylinder(r,h), where r and h are the radius and height of a cylinder, respectively, \n",
        "and the output is a list [s, v] where s and v are the surface area and volume of the same cylinder, respectively. \n",
        "\"\"\"\n",
        "def my_cylinder(r,h):\n",
        "  s = 2*np.pi*r**2 + 2*np.pi*r*h\n",
        "  v = np.pi*r**2*h\n",
        "  return [s,v]"
      ],
      "metadata": {
        "id": "-wdm4RwaMIHr"
      },
      "execution_count": null,
      "outputs": []
    },
    {
      "cell_type": "code",
      "source": [
        "s,v = my_cylinder(1,5)\n",
        "print(f\"The surface area is {s} and volume is {v}\")"
      ],
      "metadata": {
        "colab": {
          "base_uri": "https://localhost:8080/"
        },
        "id": "CKNbKA43NiIt",
        "outputId": "c08a358f-6618-466b-9f19-066aa06a7114"
      },
      "execution_count": null,
      "outputs": [
        {
          "output_type": "stream",
          "name": "stdout",
          "text": [
            "The surface area is 37.69911184307752 and volume is 15.707963267948966\n"
          ]
        }
      ]
    },
    {
      "cell_type": "code",
      "source": [
        "\"\"\"\n",
        "Q2\n",
        "Write a function my_split_matrix(m), where m is an array, \n",
        "the output is a list [m1, m2] where m1 is the left half of m, and m2 is the right half of m. \n",
        "In the case where there is an odd number of columns, the middle column should go to m1. \n",
        "Assume that m has at least two columns.\n",
        "\"\"\"\n",
        "\n",
        "def my_split_matrix(m):\n",
        "  p, q = m.shape\n",
        "  if(q%2==0):\n",
        "    m1 = m[:,0:q/2]\n",
        "    m2 = m[:,q/2:]\n",
        "  else:\n",
        "    m1 = m[:,0:q//2 +1]\n",
        "    m2 = m[:,q//2 +1:]\n",
        "  return [m1,m2]\n"
      ],
      "metadata": {
        "id": "xIpCspPcNlNh"
      },
      "execution_count": null,
      "outputs": []
    },
    {
      "cell_type": "code",
      "source": [
        "m = np.ones((7,7))\n",
        "m1, m2 = my_split_matrix(m)\n",
        "print(f\"The 1st block m1 is {m1} and 2nd block m2 is {m2}\")"
      ],
      "metadata": {
        "colab": {
          "base_uri": "https://localhost:8080/"
        },
        "id": "omrlAqI1P6aG",
        "outputId": "d9cdbf86-2a1e-42c3-bfff-b1b4bca39230"
      },
      "execution_count": null,
      "outputs": [
        {
          "output_type": "stream",
          "name": "stdout",
          "text": [
            "The 1st block m1 is [[1. 1. 1. 1.]\n",
            " [1. 1. 1. 1.]\n",
            " [1. 1. 1. 1.]\n",
            " [1. 1. 1. 1.]\n",
            " [1. 1. 1. 1.]\n",
            " [1. 1. 1. 1.]\n",
            " [1. 1. 1. 1.]] and 2nd block m2 is [[1. 1. 1.]\n",
            " [1. 1. 1.]\n",
            " [1. 1. 1.]\n",
            " [1. 1. 1.]\n",
            " [1. 1. 1.]\n",
            " [1. 1. 1.]\n",
            " [1. 1. 1.]]\n"
          ]
        }
      ]
    },
    {
      "cell_type": "code",
      "source": [
        "A = np.array([5,4,3,7])\n",
        "A[2:]"
      ],
      "metadata": {
        "colab": {
          "base_uri": "https://localhost:8080/"
        },
        "id": "ZAIM27WESuvS",
        "outputId": "c7338b3d-c525-4d7d-ff4b-3e5c56a2c9e4"
      },
      "execution_count": null,
      "outputs": [
        {
          "output_type": "execute_result",
          "data": {
            "text/plain": [
              "array([3, 7])"
            ]
          },
          "metadata": {},
          "execution_count": 29
        }
      ]
    },
    {
      "cell_type": "code",
      "source": [
        "dic = {\"A\": 1, \"B\":2}\n",
        "for i,j in enumerate(dic):\n",
        "  print(i,j)"
      ],
      "metadata": {
        "colab": {
          "base_uri": "https://localhost:8080/"
        },
        "id": "e-lMWHs0Tl9F",
        "outputId": "9647c86a-e1ed-4974-c556-3f2e38df681e"
      },
      "execution_count": null,
      "outputs": [
        {
          "output_type": "stream",
          "name": "stdout",
          "text": [
            "0 A\n",
            "1 B\n"
          ]
        }
      ]
    },
    {
      "cell_type": "code",
      "source": [
        "l1 = [3,4,5]\n",
        "l2 = [5,6,7]\n",
        "for i,j in zip(l1,l2):\n",
        "  print(i,j)"
      ],
      "metadata": {
        "colab": {
          "base_uri": "https://localhost:8080/"
        },
        "id": "DBfE3IbOVc6I",
        "outputId": "3baab60d-407f-4ecb-cc5f-837de36591a0"
      },
      "execution_count": null,
      "outputs": [
        {
          "output_type": "stream",
          "name": "stdout",
          "text": [
            "3 5\n",
            "4 6\n",
            "5 7\n"
          ]
        }
      ]
    },
    {
      "cell_type": "code",
      "source": [
        "a = [2,5,6]\n",
        "y = [i**2 for i in a]\n",
        "print(y)"
      ],
      "metadata": {
        "colab": {
          "base_uri": "https://localhost:8080/"
        },
        "id": "65DngTuvYxoF",
        "outputId": "a2ca17bf-3cd0-4e7f-ab38-9197456bb14c"
      },
      "execution_count": null,
      "outputs": [
        {
          "output_type": "stream",
          "name": "stdout",
          "text": [
            "[4, 25, 36]\n"
          ]
        }
      ]
    },
    {
      "cell_type": "code",
      "source": [
        "b = np.array(a)\n",
        "print(b*b)"
      ],
      "metadata": {
        "colab": {
          "base_uri": "https://localhost:8080/"
        },
        "id": "1ZqcRTs2dlqo",
        "outputId": "a8905b12-9ed5-49a7-cefe-4b0b2b1836b5"
      },
      "execution_count": null,
      "outputs": [
        {
          "output_type": "stream",
          "name": "stdout",
          "text": [
            "[ 4 25 36]\n"
          ]
        }
      ]
    },
    {
      "cell_type": "markdown",
      "source": [
        "The interest, i, on a principle, $P_0$, is a payment for allowing the bank to use your money. Compound interest is accumulated according to the formula $P_n=(1+i)P_{n−1}$, where n is the compounding period, usually in months or years. Write a function my_saving_plan$(P_0, i, goal)$ where the output is the number of years it will take $P_0$ to become goal at $i\\%$ interest compounded annually."
      ],
      "metadata": {
        "id": "R1ApURCPfZPy"
      }
    },
    {
      "cell_type": "code",
      "source": [
        "\"\"\"\n",
        "Q4\n",
        "The interest, i, on a principle, P0, is a payment for allowing the bank to use your money. \n",
        "Compound interest is accumulated according to the formula Pn=(1+i)Pn−1, where n is the compounding period, \n",
        "usually in months or years. Write a function my_saving_plan(P0, i, goal) \n",
        "where the output is the number of years it will take P0 to become goal at i% interest compounded annually.\n",
        "\"\"\"\n",
        "def my_saving_plan(p0,i,goal):\n",
        "  p = p0\n",
        "  c=1\n",
        "  while(c>0):\n",
        "    p = (1+i)*p\n",
        "    if(p>=goal):\n",
        "      break\n",
        "    c +=1\n",
        "  return c"
      ],
      "metadata": {
        "id": "DrW_75hVftVW"
      },
      "execution_count": null,
      "outputs": []
    },
    {
      "cell_type": "code",
      "source": [
        "# Output: 15\n",
        "my_saving_plan(1000, 0.05, 2000)"
      ],
      "metadata": {
        "colab": {
          "base_uri": "https://localhost:8080/"
        },
        "id": "LJtGZUgPhWXl",
        "outputId": "c36fb8fb-2ae3-4893-b993-826705a5204c"
      },
      "execution_count": null,
      "outputs": [
        {
          "output_type": "execute_result",
          "data": {
            "text/plain": [
              "15"
            ]
          },
          "metadata": {},
          "execution_count": 35
        }
      ]
    },
    {
      "cell_type": "code",
      "source": [
        "# Prime Fibonacci f0 = 0, f1 = 1 with recursion\n",
        "def isPrime(n):\n",
        "  if(n<=1): return False\n",
        "  else:\n",
        "    for i in range(2,n):\n",
        "      if(n%i==0): return False\n",
        "  return True\n",
        "\n",
        "def Fibo(n):\n",
        "  if(n<=2):\n",
        "    return n-1\n",
        "  else:\n",
        "    return Fibo(n-1)+Fibo(n-2)\n",
        "\n",
        "def Fibo_Prime(x):\n",
        "  for i in range(x+1):\n",
        "    if(isPrime(Fibo(i))):\n",
        "      print(Fibo(i), end = \" \")\n",
        "\n",
        "  "
      ],
      "metadata": {
        "id": "LpPI2Smvhb1s"
      },
      "execution_count": null,
      "outputs": []
    },
    {
      "cell_type": "code",
      "source": [
        "Fibo_Prime(10)"
      ],
      "metadata": {
        "colab": {
          "base_uri": "https://localhost:8080/"
        },
        "id": "WUKlMZM72I1J",
        "outputId": "aec2f89c-731c-4533-f356-19dd55a49927"
      },
      "execution_count": null,
      "outputs": [
        {
          "output_type": "stream",
          "name": "stdout",
          "text": [
            "2 3 5 13 "
          ]
        }
      ]
    },
    {
      "cell_type": "code",
      "source": [
        "# Without recursion\n",
        "def Fibo_Prime2(n):\n",
        "  f0 = 0\n",
        "  f1 = 1\n",
        "  for i in range(n-2):\n",
        "    f2 = f0 + f1\n",
        "    f0 = f1\n",
        "    f1 = f2\n",
        "    if(isPrime(f1)):\n",
        "      print(f1, end = \" \")"
      ],
      "metadata": {
        "id": "FJ_4pKxs2Kra"
      },
      "execution_count": null,
      "outputs": []
    },
    {
      "cell_type": "code",
      "source": [
        "Fibo_Prime2(8)"
      ],
      "metadata": {
        "colab": {
          "base_uri": "https://localhost:8080/"
        },
        "id": "3bdDOtLo7PkO",
        "outputId": "fd5e1b3c-d625-48f4-e8a7-639597b5be1f"
      },
      "execution_count": null,
      "outputs": [
        {
          "output_type": "stream",
          "name": "stdout",
          "text": [
            "2 3 5 13 "
          ]
        }
      ]
    },
    {
      "cell_type": "code",
      "source": [
        "\"\"\"\n",
        "write a function my_trig_odd_even(M), where the output Q[i,j]=sin(π/M[i,j]) if M[i,j] is odd, \n",
        "and Q[i,j]=cos(π/M[i,j]) if M[i,j] is even. \n",
        "Assume that M is a two-dimensional array of strictly positive integers.\n",
        "\"\"\"\n",
        "def my_trig_odd_even(M):\n",
        "  m=len(M)\n",
        "  n=len(M[0])\n",
        "  Q=[[0]*n]*m\n",
        "  for i in range(m):\n",
        "    for j in range(n):\n",
        "      if(M[i][j]%2==0):\n",
        "        Q[i][j] = np.sin(np.pi/M[i][j])\n",
        "      else:\n",
        "        Q[i][j] = np.cos(np.pi/M[i][j])\n",
        "  return Q"
      ],
      "metadata": {
        "id": "qkizdAEt7URT"
      },
      "execution_count": 100,
      "outputs": []
    },
    {
      "cell_type": "code",
      "source": [
        "M = [[3, 4,1], [6, 7,2]]\n",
        "my_trig_odd_even(M)"
      ],
      "metadata": {
        "colab": {
          "base_uri": "https://localhost:8080/"
        },
        "id": "Spmy4eQSALLd",
        "outputId": "587bbc6b-232a-4c54-f408-a75208237394"
      },
      "execution_count": 102,
      "outputs": [
        {
          "output_type": "execute_result",
          "data": {
            "text/plain": [
              "[[0.49999999999999994, 0.9009688679024191, 1.0],\n",
              " [0.49999999999999994, 0.9009688679024191, 1.0]]"
            ]
          },
          "metadata": {},
          "execution_count": 102
        }
      ]
    },
    {
      "cell_type": "code",
      "source": [
        "\"\"\"\n",
        "Compare forward difference, backward diff, central diff and exact\n",
        "\"\"\"\n",
        "# Forward diff\n",
        "def forward_diff(f,x,h):\n",
        "  df_forward = (f(x+h)-f(x))/h\n",
        "  return df_forward\n",
        "\n",
        "# Backward diff\n",
        "def backward_diff(f,x,h):\n",
        "  df_backward = (f(x)-f(x-h))/h\n",
        "  return df_backward\n",
        "\n",
        "# Central diff\n",
        "def central_diff(f,x,h):\n",
        "  df_central = (f(x+h)-f(x-h))/(2*h)\n",
        "  return df_central\n",
        "\n",
        "# step length h = 0.5\n",
        "h  = 0.5\n",
        "f  = lambda x: x**3 - 2*x\n",
        "df = lambda x: 3*x**2 -2\n",
        "xvec  = np.arange(-1,1,h)\n",
        "frwd  = forward_diff(f,xvec,h)\n",
        "bkwd  = backward_diff(f,xvec,h)\n",
        "cend  = central_diff(f,xvec,h)\n",
        "exact = df(xvec)\n",
        "import matplotlib.pyplot as plt\n",
        "plt.plot(xvec,frwd, color = 'r', label = \"forward\")\n",
        "plt.plot(xvec,bkwd, color = 'g', label = \"backward\")\n",
        "plt.plot(xvec,cend, color = 'b', label = \"central\")\n",
        "plt.plot(xvec,exact,'-o', color = 'c', label = \"exact\")\n",
        "plt.xlabel(\"x value \")\n",
        "plt.ylabel(\"diff(x) value \")\n",
        "plt.legend()\n",
        "plt.title(\"Comparison between different difference formulas for h = 0.5\")\n",
        "plt.show()"
      ],
      "metadata": {
        "id": "7-Dvi2ObAOjz",
        "colab": {
          "base_uri": "https://localhost:8080/",
          "height": 295
        },
        "outputId": "8e7a510f-f706-4f17-f3fd-bd7dc709f736"
      },
      "execution_count": 137,
      "outputs": [
        {
          "output_type": "display_data",
          "data": {
            "image/png": "[encoded data removed]",
            "text/plain": [
              "<Figure size 432x288 with 1 Axes>"
            ]
          },
          "metadata": {
            "needs_background": "light"
          }
        }
      ]
    },
    {
      "cell_type": "code",
      "source": [
        "# step length h = 0.3\n",
        "h  = 0.3\n",
        "f  = lambda x: x**3 - 2*x\n",
        "df = lambda x: 3*x**2 -2\n",
        "xvec  = np.arange(-1,1,h)\n",
        "frwd  = forward_diff(f,xvec,h)\n",
        "bkwd  = backward_diff(f,xvec,h)\n",
        "cend  = central_diff(f,xvec,h)\n",
        "exact = df(xvec)\n",
        "plt.plot(xvec,frwd, color = 'r', label = \"forward\")\n",
        "plt.plot(xvec,bkwd, color = 'g', label = \"backward\")\n",
        "plt.plot(xvec,cend, color = 'b', label = \"central\")\n",
        "plt.plot(xvec,exact,'-o', color = 'c', label = \"exact\")\n",
        "plt.xlabel(\"x value \")\n",
        "plt.ylabel(\"diff(x) value \")\n",
        "plt.legend()\n",
        "plt.title(\"Comparison between different difference formulas for h = 0.3\")\n",
        "plt.show()"
      ],
      "metadata": {
        "colab": {
          "base_uri": "https://localhost:8080/",
          "height": 295
        },
        "id": "LPo80nUpFlaj",
        "outputId": "6dcec160-e76d-48c1-f98d-8db1b45256ef"
      },
      "execution_count": 141,
      "outputs": [
        {
          "output_type": "display_data",
          "data": {
            "image/png": "[encoded data removed]",
            "text/plain": [
              "<Figure size 432x288 with 1 Axes>"
            ]
          },
          "metadata": {
            "needs_background": "light"
          }
        }
      ]
    },
    {
      "cell_type": "code",
      "source": [
        "# step length h = 0.2\n",
        "h  = 0.2\n",
        "f  = lambda x: x**3 - 2*x\n",
        "df = lambda x: 3*x**2 -2\n",
        "xvec  = np.arange(-1,1,h)\n",
        "frwd  = forward_diff(f,xvec,h)\n",
        "bkwd  = backward_diff(f,xvec,h)\n",
        "cend  = central_diff(f,xvec,h)\n",
        "exact = df(xvec)\n",
        "plt.plot(xvec,frwd, color = 'r', label = \"forward\")\n",
        "plt.plot(xvec,bkwd, color = 'g', label = \"backward\")\n",
        "plt.plot(xvec,cend, color = 'b', label = \"central\")\n",
        "plt.plot(xvec,exact,'-o', color = 'c', label = \"exact\")\n",
        "plt.xlabel(\"x value \")\n",
        "plt.ylabel(\"diff(x) value \")\n",
        "plt.legend()\n",
        "plt.title(\"Comparison between different difference formulas for h = 0.2\")\n",
        "plt.show()"
      ],
      "metadata": {
        "colab": {
          "base_uri": "https://localhost:8080/",
          "height": 295
        },
        "id": "YbDTdALRLLdM",
        "outputId": "fdee7b8e-db25-479b-db4b-3b7a43a4b9ad"
      },
      "execution_count": 142,
      "outputs": [
        {
          "output_type": "display_data",
          "data": {
            "image/png": "[encoded data removed]",
            "text/plain": [
              "<Figure size 432x288 with 1 Axes>"
            ]
          },
          "metadata": {
            "needs_background": "light"
          }
        }
      ]
    },
    {
      "cell_type": "code",
      "source": [
        ""
      ],
      "metadata": {
        "id": "6uYOs00oLz6m"
      },
      "execution_count": null,
      "outputs": []
    }
  ]
}