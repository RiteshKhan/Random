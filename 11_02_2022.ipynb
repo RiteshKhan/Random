{
  "nbformat": 4,
  "nbformat_minor": 0,
  "metadata": {
    "colab": {
      "name": "11/02/2022.ipynb",
      "provenance": [],
      "authorship_tag": "ABX9TyO7oaEka2YmesSX1t37PlyN"
    },
    "kernelspec": {
      "name": "python3",
      "display_name": "Python 3"
    },
    "language_info": {
      "name": "python"
    }
  },
  "cells": [
    {
      "cell_type": "code",
      "execution_count": 23,
      "metadata": {
        "id": "1_2bcInrIaj2"
      },
      "outputs": [],
      "source": [
        "\"\"\"\n",
        "Q1\n",
        "\n",
        "Write a function my_checker_board(n), where the output m is an n×n\n",
        "\n",
        "array with the following form:\n",
        "m=[1 0 1 0 1\n",
        "   0 1 0 1 0\n",
        "   1 0 1 0 1\n",
        "   0 1 0 1 0\n",
        "   1 0 1 0 1]\n",
        "\n",
        "Note that the upper-left element should always be 1. Assume that n is a strictly positive integer.\n",
        "\"\"\"\n",
        "\n",
        "import numpy as np\n",
        "def my_checker_board(n):\n",
        "  l = []\n",
        "  m = n*n\n",
        "  for i in range(0,n**2):\n",
        "    if(i%2==0):\n",
        "      l.append(1)\n",
        "    else:\n",
        "      l.append(0)\n",
        "  A = np.array(l)\n",
        "  return(A.reshape(n,n))\n"
      ]
    },
    {
      "cell_type": "code",
      "source": [
        "print(my_checker_board(7))"
      ],
      "metadata": {
        "colab": {
          "base_uri": "https://localhost:8080/"
        },
        "id": "trbP0DFwKkwH",
        "outputId": "41565cc8-f29a-48cb-db14-d5b3e2a09e59"
      },
      "execution_count": 24,
      "outputs": [
        {
          "output_type": "stream",
          "name": "stdout",
          "text": [
            "[[1 0 1 0 1 0 1]\n",
            " [0 1 0 1 0 1 0]\n",
            " [1 0 1 0 1 0 1]\n",
            " [0 1 0 1 0 1 0]\n",
            " [1 0 1 0 1 0 1]\n",
            " [0 1 0 1 0 1 0]\n",
            " [1 0 1 0 1 0 1]]\n"
          ]
        }
      ]
    },
    {
      "cell_type": "code",
      "source": [
        "\"\"\"\n",
        "Q2\n",
        "Write a function my_cylinder(r,h), where r and h are the radius and height of a cylinder, respectively, \n",
        "and the output is a list [s, v] where s and v are the surface area and volume of the same cylinder, respectively. \n",
        "\"\"\"\n",
        "def my_cylinder(r,h):\n",
        "  s = 2*np.pi*r**2 + 2*np.pi*r*h\n",
        "  v = np.pi*r**2*h\n",
        "  return [s,v]"
      ],
      "metadata": {
        "id": "-wdm4RwaMIHr"
      },
      "execution_count": 25,
      "outputs": []
    },
    {
      "cell_type": "code",
      "source": [
        "s,v = my_cylinder(1,5)\n",
        "print(f\"The surface area is {s} and volume is {v}\")"
      ],
      "metadata": {
        "colab": {
          "base_uri": "https://localhost:8080/"
        },
        "id": "CKNbKA43NiIt",
        "outputId": "c08a358f-6618-466b-9f19-066aa06a7114"
      },
      "execution_count": 26,
      "outputs": [
        {
          "output_type": "stream",
          "name": "stdout",
          "text": [
            "The surface area is 37.69911184307752 and volume is 15.707963267948966\n"
          ]
        }
      ]
    },
    {
      "cell_type": "code",
      "source": [
        "\"\"\"\n",
        "Q2\n",
        "Write a function my_split_matrix(m), where m is an array, \n",
        "the output is a list [m1, m2] where m1 is the left half of m, and m2 is the right half of m. \n",
        "In the case where there is an odd number of columns, the middle column should go to m1. \n",
        "Assume that m has at least two columns.\n",
        "\"\"\"\n",
        "\n",
        "def my_split_matrix(m):\n",
        "  p, q = m.shape\n",
        "  if(q%2==0):\n",
        "    m1 = m[:,0:q/2]\n",
        "    m2 = m[:,q/2:]\n",
        "  else:\n",
        "    m1 = m[:,0:q//2 +1]\n",
        "    m2 = m[:,q//2 +1:]\n",
        "  return [m1,m2]\n"
      ],
      "metadata": {
        "id": "xIpCspPcNlNh"
      },
      "execution_count": 27,
      "outputs": []
    },
    {
      "cell_type": "code",
      "source": [
        "m = np.ones((7,7))\n",
        "m1, m2 = my_split_matrix(m)\n",
        "print(f\"The 1st block m1 is {m1} and 2nd block m2 is {m2}\")"
      ],
      "metadata": {
        "colab": {
          "base_uri": "https://localhost:8080/"
        },
        "id": "omrlAqI1P6aG",
        "outputId": "d9cdbf86-2a1e-42c3-bfff-b1b4bca39230"
      },
      "execution_count": 28,
      "outputs": [
        {
          "output_type": "stream",
          "name": "stdout",
          "text": [
            "The 1st block m1 is [[1. 1. 1. 1.]\n",
            " [1. 1. 1. 1.]\n",
            " [1. 1. 1. 1.]\n",
            " [1. 1. 1. 1.]\n",
            " [1. 1. 1. 1.]\n",
            " [1. 1. 1. 1.]\n",
            " [1. 1. 1. 1.]] and 2nd block m2 is [[1. 1. 1.]\n",
            " [1. 1. 1.]\n",
            " [1. 1. 1.]\n",
            " [1. 1. 1.]\n",
            " [1. 1. 1.]\n",
            " [1. 1. 1.]\n",
            " [1. 1. 1.]]\n"
          ]
        }
      ]
    },
    {
      "cell_type": "code",
      "source": [
        "A = np.array([5,4,3,7])\n",
        "A[2:]"
      ],
      "metadata": {
        "colab": {
          "base_uri": "https://localhost:8080/"
        },
        "id": "ZAIM27WESuvS",
        "outputId": "c7338b3d-c525-4d7d-ff4b-3e5c56a2c9e4"
      },
      "execution_count": 29,
      "outputs": [
        {
          "output_type": "execute_result",
          "data": {
            "text/plain": [
              "array([3, 7])"
            ]
          },
          "metadata": {},
          "execution_count": 29
        }
      ]
    },
    {
      "cell_type": "code",
      "source": [
        "dic = {\"A\": 1, \"B\":2}\n",
        "for i,j in enumerate(dic):\n",
        "  print(i,j)"
      ],
      "metadata": {
        "colab": {
          "base_uri": "https://localhost:8080/"
        },
        "id": "e-lMWHs0Tl9F",
        "outputId": "9647c86a-e1ed-4974-c556-3f2e38df681e"
      },
      "execution_count": 30,
      "outputs": [
        {
          "output_type": "stream",
          "name": "stdout",
          "text": [
            "0 A\n",
            "1 B\n"
          ]
        }
      ]
    },
    {
      "cell_type": "code",
      "source": [
        "l1 = [3,4,5]\n",
        "l2 = [5,6,7]\n",
        "for i,j in zip(l1,l2):\n",
        "  print(i,j)"
      ],
      "metadata": {
        "colab": {
          "base_uri": "https://localhost:8080/"
        },
        "id": "DBfE3IbOVc6I",
        "outputId": "3baab60d-407f-4ecb-cc5f-837de36591a0"
      },
      "execution_count": 31,
      "outputs": [
        {
          "output_type": "stream",
          "name": "stdout",
          "text": [
            "3 5\n",
            "4 6\n",
            "5 7\n"
          ]
        }
      ]
    },
    {
      "cell_type": "code",
      "source": [
        "a = [2,5,6]\n",
        "y = [i**2 for i in a]\n",
        "print(y)"
      ],
      "metadata": {
        "colab": {
          "base_uri": "https://localhost:8080/"
        },
        "id": "65DngTuvYxoF",
        "outputId": "a2ca17bf-3cd0-4e7f-ab38-9197456bb14c"
      },
      "execution_count": 32,
      "outputs": [
        {
          "output_type": "stream",
          "name": "stdout",
          "text": [
            "[4, 25, 36]\n"
          ]
        }
      ]
    },
    {
      "cell_type": "code",
      "source": [
        "b = np.array(a)\n",
        "print(b*b)"
      ],
      "metadata": {
        "colab": {
          "base_uri": "https://localhost:8080/"
        },
        "id": "1ZqcRTs2dlqo",
        "outputId": "a8905b12-9ed5-49a7-cefe-4b0b2b1836b5"
      },
      "execution_count": 33,
      "outputs": [
        {
          "output_type": "stream",
          "name": "stdout",
          "text": [
            "[ 4 25 36]\n"
          ]
        }
      ]
    },
    {
      "cell_type": "markdown",
      "source": [
        "The interest, i, on a principle, $P_0$, is a payment for allowing the bank to use your money. Compound interest is accumulated according to the formula $P_n=(1+i)P_{n−1}$, where n is the compounding period, usually in months or years. Write a function my_saving_plan$(P_0, i, goal)$ where the output is the number of years it will take $P_0$ to become goal at $i\\%$ interest compounded annually."
      ],
      "metadata": {
        "id": "R1ApURCPfZPy"
      }
    },
    {
      "cell_type": "code",
      "source": [
        "\"\"\"\n",
        "Q4\n",
        "The interest, i, on a principle, P0, is a payment for allowing the bank to use your money. \n",
        "Compound interest is accumulated according to the formula Pn=(1+i)Pn−1, where n is the compounding period, \n",
        "usually in months or years. Write a function my_saving_plan(P0, i, goal) \n",
        "where the output is the number of years it will take P0 to become goal at i% interest compounded annually.\n",
        "\"\"\"\n",
        "def my_saving_plan(p0,i,goal):\n",
        "  p = p0\n",
        "  c=1\n",
        "  while(c>0):\n",
        "    p = (1+i)*p\n",
        "    if(p>=goal):\n",
        "      break\n",
        "    c +=1\n",
        "  return c"
      ],
      "metadata": {
        "id": "DrW_75hVftVW"
      },
      "execution_count": 34,
      "outputs": []
    },
    {
      "cell_type": "code",
      "source": [
        "# Output: 15\n",
        "my_saving_plan(1000, 0.05, 2000)"
      ],
      "metadata": {
        "colab": {
          "base_uri": "https://localhost:8080/"
        },
        "id": "LJtGZUgPhWXl",
        "outputId": "c36fb8fb-2ae3-4893-b993-826705a5204c"
      },
      "execution_count": 35,
      "outputs": [
        {
          "output_type": "execute_result",
          "data": {
            "text/plain": [
              "15"
            ]
          },
          "metadata": {},
          "execution_count": 35
        }
      ]
    },
    {
      "cell_type": "code",
      "source": [
        "# Prime Fibonacci f0 = 0, f1 = 1\n",
        "def isPrime(n):\n",
        "  if(n<=1): return False\n",
        "  else:\n",
        "    for i in range(2,n):\n",
        "      if(n%i==0): return False\n",
        "  return True\n",
        "\n",
        "def Fibo(n):\n",
        "  if(n<=2):\n",
        "    return n-1\n",
        "  else:\n",
        "    return Fibo(n-1)+Fibo(n-2)\n",
        "\n",
        "def Fibo_Prime(x):\n",
        "  for i in range(x+1):\n",
        "    if(isPrime(Fibo(i))):\n",
        "      print(Fibo(i), end = \" \")\n",
        "\n",
        "  "
      ],
      "metadata": {
        "id": "LpPI2Smvhb1s"
      },
      "execution_count": 61,
      "outputs": []
    },
    {
      "cell_type": "code",
      "source": [
        "Fibo_Prime(15)"
      ],
      "metadata": {
        "colab": {
          "base_uri": "https://localhost:8080/"
        },
        "id": "WUKlMZM72I1J",
        "outputId": "db13df38-43bd-47c4-e04d-5b9b5b96d4f3"
      },
      "execution_count": 62,
      "outputs": [
        {
          "output_type": "stream",
          "name": "stdout",
          "text": [
            "2 3 5 13 89 233 "
          ]
        }
      ]
    },
    {
      "cell_type": "code",
      "source": [
        "# Without recursion\n",
        "def Fibo_Prime2(n):\n",
        "  f0 = 0\n",
        "  f1 = 1\n",
        "  for i in range(n-2):\n",
        "    f2 = f0 + f1\n",
        "    f0 = f1\n",
        "    f1 = f2\n",
        "    if(isPrime(f1)):\n",
        "      print(f1, end = \" \")"
      ],
      "metadata": {
        "id": "FJ_4pKxs2Kra"
      },
      "execution_count": 69,
      "outputs": []
    },
    {
      "cell_type": "code",
      "source": [
        "Fibo_Prime2(15)"
      ],
      "metadata": {
        "colab": {
          "base_uri": "https://localhost:8080/"
        },
        "id": "3bdDOtLo7PkO",
        "outputId": "85f9c27b-6c83-4407-e200-223629b1fd24"
      },
      "execution_count": 70,
      "outputs": [
        {
          "output_type": "stream",
          "name": "stdout",
          "text": [
            "2 3 5 13 89 233 "
          ]
        }
      ]
    },
    {
      "cell_type": "code",
      "source": [
        ""
      ],
      "metadata": {
        "id": "qkizdAEt7URT"
      },
      "execution_count": null,
      "outputs": []
    }
  ]
}