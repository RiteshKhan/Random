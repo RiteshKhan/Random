{
  "nbformat": 4,
  "nbformat_minor": 0,
  "metadata": {
    "colab": {
      "name": "11/02/2022.ipynb",
      "provenance": [],
      "authorship_tag": "ABX9TyNVdQ4pRi9dvcfY64Ddxdj7"
    },
    "kernelspec": {
      "name": "python3",
      "display_name": "Python 3"
    },
    "language_info": {
      "name": "python"
    }
  },
  "cells": [
    {
      "cell_type": "code",
      "execution_count": 7,
      "metadata": {
        "id": "1_2bcInrIaj2"
      },
      "outputs": [],
      "source": [
        "\"\"\"\n",
        "Q1\n",
        "\n",
        "Write a function my_checker_board(n), where the output m is an n×n\n",
        "\n",
        "array with the following form:\n",
        "m=[1 0 1 0 1\n",
        "   0 1 0 1 0\n",
        "   1 0 1 0 1\n",
        "   0 1 0 1 0\n",
        "   1 0 1 0 1]\n",
        "\n",
        "Note that the upper-left element should always be 1. Assume that n is a strictly positive integer.\n",
        "\"\"\"\n",
        "\n",
        "import numpy as np\n",
        "def my_checker_board(n):\n",
        "  l = []\n",
        "  m = n*n\n",
        "  for i in range(0,n**2):\n",
        "    if(i%2==0):\n",
        "      l.append(1)\n",
        "    else:\n",
        "      l.append(0)\n",
        "  A = np.array(l)\n",
        "  return(A.reshape(n,n))\n"
      ]
    },
    {
      "cell_type": "code",
      "source": [
        "print(my_checker_board(7))"
      ],
      "metadata": {
        "colab": {
          "base_uri": "https://localhost:8080/"
        },
        "id": "trbP0DFwKkwH",
        "outputId": "70b68103-1011-4261-aff5-06dffae9087c"
      },
      "execution_count": 8,
      "outputs": [
        {
          "output_type": "stream",
          "name": "stdout",
          "text": [
            "[[1 0 1 0 1 0 1]\n",
            " [0 1 0 1 0 1 0]\n",
            " [1 0 1 0 1 0 1]\n",
            " [0 1 0 1 0 1 0]\n",
            " [1 0 1 0 1 0 1]\n",
            " [0 1 0 1 0 1 0]\n",
            " [1 0 1 0 1 0 1]]\n"
          ]
        }
      ]
    },
    {
      "cell_type": "code",
      "source": [
        "\"\"\"\n",
        "Q2\n",
        "Write a function my_cylinder(r,h), where r and h are the radius and height of a cylinder, respectively, \n",
        "and the output is a list [s, v] where s and v are the surface area and volume of the same cylinder, respectively. \n",
        "\"\"\"\n",
        "def my_cylinder(r,h):\n",
        "  s = 2*np.pi*r**2 + 2*np.pi*r*h\n",
        "  v = np.pi*r**2*h\n",
        "  return [s,v]"
      ],
      "metadata": {
        "id": "-wdm4RwaMIHr"
      },
      "execution_count": 9,
      "outputs": []
    },
    {
      "cell_type": "code",
      "source": [
        "s,v = my_cylinder(1,5)\n",
        "print(f\"The surface area is {s} and volume is {v}\")"
      ],
      "metadata": {
        "colab": {
          "base_uri": "https://localhost:8080/"
        },
        "id": "CKNbKA43NiIt",
        "outputId": "88d39e5c-57f3-4c9c-daac-9db9f4dcd62f"
      },
      "execution_count": 10,
      "outputs": [
        {
          "output_type": "stream",
          "name": "stdout",
          "text": [
            "The surface area is 37.69911184307752 and volume is 15.707963267948966\n"
          ]
        }
      ]
    },
    {
      "cell_type": "code",
      "source": [
        "\"\"\"\n",
        "Q2\n",
        "Write a function my_split_matrix(m), where m is an array, \n",
        "the output is a list [m1, m2] where m1 is the left half of m, and m2 is the right half of m. \n",
        "In the case where there is an odd number of columns, the middle column should go to m1. \n",
        "Assume that m has at least two columns.\n",
        "\"\"\"\n",
        "\n",
        "def my_split_matrix(m):\n",
        "  p, q = m.shape\n",
        "  if(q%2==0):\n",
        "    m1 = m[:,0:q/2]\n",
        "    m2 = m[:,q/2:]\n",
        "  else:\n",
        "    m1 = m[:,0:q//2 +1]\n",
        "    m2 = m[:,q//2 +1:]\n",
        "  return [m1,m2]\n"
      ],
      "metadata": {
        "id": "xIpCspPcNlNh"
      },
      "execution_count": 11,
      "outputs": []
    },
    {
      "cell_type": "code",
      "source": [
        "m = np.ones((7,7))\n",
        "m1, m2 = my_split_matrix(m)\n",
        "print(f\"The 1st block m1 is {m1} and 2nd block m2 is {m2}\")"
      ],
      "metadata": {
        "colab": {
          "base_uri": "https://localhost:8080/"
        },
        "id": "omrlAqI1P6aG",
        "outputId": "8593cfda-dc80-4552-97e6-9cc14e37679c"
      },
      "execution_count": 12,
      "outputs": [
        {
          "output_type": "stream",
          "name": "stdout",
          "text": [
            "The 1st block m1 is [[1. 1. 1. 1.]\n",
            " [1. 1. 1. 1.]\n",
            " [1. 1. 1. 1.]\n",
            " [1. 1. 1. 1.]\n",
            " [1. 1. 1. 1.]\n",
            " [1. 1. 1. 1.]\n",
            " [1. 1. 1. 1.]] and 2nd block m2 is [[1. 1. 1.]\n",
            " [1. 1. 1.]\n",
            " [1. 1. 1.]\n",
            " [1. 1. 1.]\n",
            " [1. 1. 1.]\n",
            " [1. 1. 1.]\n",
            " [1. 1. 1.]]\n"
          ]
        }
      ]
    },
    {
      "cell_type": "code",
      "source": [
        "A = np.array([5,4,3,7])\n",
        "A[2:]"
      ],
      "metadata": {
        "colab": {
          "base_uri": "https://localhost:8080/"
        },
        "id": "ZAIM27WESuvS",
        "outputId": "64ea2f49-cd70-42df-c522-12c1bd5d2363"
      },
      "execution_count": 13,
      "outputs": [
        {
          "output_type": "execute_result",
          "data": {
            "text/plain": [
              "array([3, 7])"
            ]
          },
          "metadata": {},
          "execution_count": 13
        }
      ]
    },
    {
      "cell_type": "code",
      "source": [
        "dic = {\"A\": 1, \"B\":2}\n",
        "for i,j in enumerate(dic):\n",
        "  print(i,j)"
      ],
      "metadata": {
        "colab": {
          "base_uri": "https://localhost:8080/"
        },
        "id": "e-lMWHs0Tl9F",
        "outputId": "e5bab5bd-6b5f-40fa-8ab9-5e0166a6cf13"
      },
      "execution_count": 14,
      "outputs": [
        {
          "output_type": "stream",
          "name": "stdout",
          "text": [
            "0 A\n",
            "1 B\n"
          ]
        }
      ]
    },
    {
      "cell_type": "code",
      "source": [
        "l1 = [3,4,5]\n",
        "l2 = [5,6,7]\n",
        "for i,j in zip(l1,l2):\n",
        "  print(i,j)"
      ],
      "metadata": {
        "colab": {
          "base_uri": "https://localhost:8080/"
        },
        "id": "DBfE3IbOVc6I",
        "outputId": "3f2183a2-4b24-4c7b-af9b-2875164b8a1d"
      },
      "execution_count": 15,
      "outputs": [
        {
          "output_type": "stream",
          "name": "stdout",
          "text": [
            "3 5\n",
            "4 6\n",
            "5 7\n"
          ]
        }
      ]
    },
    {
      "cell_type": "code",
      "source": [
        "a = [2,5,6]\n",
        "y = [i**2 for i in a]\n",
        "print(y)"
      ],
      "metadata": {
        "colab": {
          "base_uri": "https://localhost:8080/"
        },
        "id": "65DngTuvYxoF",
        "outputId": "9f2df6c2-de11-4ee3-aad1-3d32aa389f73"
      },
      "execution_count": 16,
      "outputs": [
        {
          "output_type": "stream",
          "name": "stdout",
          "text": [
            "[4, 25, 36]\n"
          ]
        }
      ]
    },
    {
      "cell_type": "code",
      "source": [
        "b = np.array(a)\n",
        "print(b*b)"
      ],
      "metadata": {
        "colab": {
          "base_uri": "https://localhost:8080/"
        },
        "id": "1ZqcRTs2dlqo",
        "outputId": "4cf9f4f8-77a1-42ab-f734-49c2ba109a07"
      },
      "execution_count": 17,
      "outputs": [
        {
          "output_type": "stream",
          "name": "stdout",
          "text": [
            "[ 4 25 36]\n"
          ]
        }
      ]
    },
    {
      "cell_type": "markdown",
      "source": [
        "The interest, i, on a principle, $P_0$, is a payment for allowing the bank to use your money. Compound interest is accumulated according to the formula $P_n=(1+i)P_{n−1}$, where n is the compounding period, usually in months or years. Write a function my_saving_plan$(P_0, i, goal)$ where the output is the number of years it will take $P_0$ to become goal at $i\\%$ interest compounded annually."
      ],
      "metadata": {
        "id": "R1ApURCPfZPy"
      }
    },
    {
      "cell_type": "code",
      "source": [
        "\"\"\"\n",
        "Q4\n",
        "The interest, i, on a principle, P0, is a payment for allowing the bank to use your money. \n",
        "Compound interest is accumulated according to the formula Pn=(1+i)Pn−1, where n is the compounding period, \n",
        "usually in months or years. Write a function my_saving_plan(P0, i, goal) \n",
        "where the output is the number of years it will take P0 to become goal at i% interest compounded annually.\n",
        "\"\"\"\n",
        "def my_saving_plan(p0,i,goal):\n",
        "  p = p0\n",
        "  c=1\n",
        "  while(c>0):\n",
        "    p = (1+i)*p\n",
        "    if(p>=goal):\n",
        "      break\n",
        "    c +=1\n",
        "  return c"
      ],
      "metadata": {
        "id": "DrW_75hVftVW"
      },
      "execution_count": 20,
      "outputs": []
    },
    {
      "cell_type": "code",
      "source": [
        "# Output: 15\n",
        "my_saving_plan(1000, 0.05, 2000)"
      ],
      "metadata": {
        "colab": {
          "base_uri": "https://localhost:8080/"
        },
        "id": "LJtGZUgPhWXl",
        "outputId": "1ec200cf-1410-4144-cdd4-ba9d467a3170"
      },
      "execution_count": 22,
      "outputs": [
        {
          "output_type": "execute_result",
          "data": {
            "text/plain": [
              "15"
            ]
          },
          "metadata": {},
          "execution_count": 22
        }
      ]
    },
    {
      "cell_type": "code",
      "source": [
        ""
      ],
      "metadata": {
        "id": "LpPI2Smvhb1s"
      },
      "execution_count": null,
      "outputs": []
    }
  ]
}